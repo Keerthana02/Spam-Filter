{
  "nbformat": 4,
  "nbformat_minor": 0,
  "metadata": {
    "kernelspec": {
      "display_name": "Python 3",
      "language": "python",
      "name": "python3"
    },
    "language_info": {
      "name": "python",
      "version": "3.6.4",
      "mimetype": "text/x-python",
      "codemirror_mode": {
        "name": "ipython",
        "version": 3
      },
      "pygments_lexer": "ipython3",
      "nbconvert_exporter": "python",
      "file_extension": ".py"
    },
    "colab": {
      "name": "Logistic_Regression.ipynb",
      "provenance": []
    }
  },
  "cells": [
    {
      "cell_type": "markdown",
      "metadata": {
        "id": "HPgdTmDmbPme",
        "colab_type": "text"
      },
      "source": [
        "Importing Libraries"
      ]
    },
    {
      "cell_type": "code",
      "metadata": {
        "id": "_1lEdYtFbC2F",
        "colab_type": "code",
        "colab": {}
      },
      "source": [
        "import pandas as pd\n",
        "from nltk.corpus import stopwords\n",
        "import string\n",
        "from sklearn.feature_extraction.text import TfidfVectorizer\n",
        "from sklearn.model_selection import train_test_split\n",
        "\n",
        "from sklearn.linear_model import LogisticRegression\n",
        "from sklearn.metrics import accuracy_score,f1_score,classification_report\n"
      ],
      "execution_count": 0,
      "outputs": []
    },
    {
      "cell_type": "code",
      "metadata": {
        "id": "EjuCuPrbbyi3",
        "colab_type": "code",
        "colab": {
          "base_uri": "https://localhost:8080/",
          "height": 70
        },
        "outputId": "e299dd50-70b9-46d3-be29-ad1875cdd0f9"
      },
      "source": [
        "import nltk\n",
        "nltk.download('stopwords')"
      ],
      "execution_count": 40,
      "outputs": [
        {
          "output_type": "stream",
          "text": [
            "[nltk_data] Downloading package stopwords to /root/nltk_data...\n",
            "[nltk_data]   Package stopwords is already up-to-date!\n"
          ],
          "name": "stdout"
        },
        {
          "output_type": "execute_result",
          "data": {
            "text/plain": [
              "True"
            ]
          },
          "metadata": {
            "tags": []
          },
          "execution_count": 40
        }
      ]
    },
    {
      "cell_type": "code",
      "metadata": {
        "id": "mgu_7UMGbMu-",
        "colab_type": "code",
        "colab": {}
      },
      "source": [
        "spam = pd.read_csv(\"/content/spam.csv\", encoding = 'latin-1')"
      ],
      "execution_count": 0,
      "outputs": []
    },
    {
      "cell_type": "code",
      "metadata": {
        "id": "QTOsjyOwbWcD",
        "colab_type": "code",
        "colab": {}
      },
      "source": [
        "typ= spam['v1']\n",
        "msg= spam['v2']"
      ],
      "execution_count": 0,
      "outputs": []
    },
    {
      "cell_type": "code",
      "metadata": {
        "id": "sLVoILsybYm0",
        "colab_type": "code",
        "colab": {}
      },
      "source": [
        "for i in range(5572):\n",
        "    msg[i]= msg[i].translate(str.maketrans('','',string.punctuation))\n",
        "    msg[i]= [word for word in msg[i].split() if word.lower() not in stopwords.words('english')]\n",
        "    msg[i]= \" \".join(msg[i])"
      ],
      "execution_count": 0,
      "outputs": []
    },
    {
      "cell_type": "code",
      "metadata": {
        "id": "NkTpZ_K3bdbl",
        "colab_type": "code",
        "colab": {}
      },
      "source": [
        "vec=TfidfVectorizer(encoding = \"latin-1\",stop_words = \"english\")\n",
        "msgmat=vec.fit_transform(msg)\n",
        "msgtrain, msgtest, strain, stest = train_test_split(msgmat,typ,stratify = typ,test_size=0.2, shuffle=True)"
      ],
      "execution_count": 0,
      "outputs": []
    },
    {
      "cell_type": "code",
      "metadata": {
        "id": "le0QOC-KbgWr",
        "colab_type": "code",
        "colab": {
          "base_uri": "https://localhost:8080/",
          "height": 176
        },
        "outputId": "fe739b15-cdf4-4f4a-aa22-b7984daa4337"
      },
      "source": [
        "Spam_model = LogisticRegression(solver='liblinear', penalty='l1')\n",
        "Spam_model.fit(msgtrain, strain)\n",
        "pred = Spam_model.predict(msgtest)\n",
        "target_names = ['ham', 'spam']\n",
        "print(classification_report(stest, pred, target_names=target_names))\n",
        "#print(accuracy_score(stest,pred))\n",
        "#print(f1_score(stest, pred))"
      ],
      "execution_count": 48,
      "outputs": [
        {
          "output_type": "stream",
          "text": [
            "              precision    recall  f1-score   support\n",
            "\n",
            "         ham       0.95      1.00      0.97       966\n",
            "        spam       0.97      0.64      0.77       149\n",
            "\n",
            "    accuracy                           0.95      1115\n",
            "   macro avg       0.96      0.82      0.87      1115\n",
            "weighted avg       0.95      0.95      0.94      1115\n",
            "\n"
          ],
          "name": "stdout"
        }
      ]
    },
    {
      "cell_type": "code",
      "metadata": {
        "id": "Fh2XOwiPddEn",
        "colab_type": "code",
        "colab": {}
      },
      "source": [
        ""
      ],
      "execution_count": 0,
      "outputs": []
    }
  ]
}